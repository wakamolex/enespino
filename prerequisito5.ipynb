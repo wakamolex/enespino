{
 "cells": [
  {
   "cell_type": "code",
   "execution_count": 1,
   "metadata": {},
   "outputs": [
    {
     "name": "stdout",
     "output_type": "stream",
     "text": [
      "Ingrese el radio:4\n",
      "El volumen de la esfera es: 267.9 m^3\n"
     ]
    }
   ],
   "source": [
    "radio = float(input('Ingrese el radio:'))\n",
    "volumen = (4/3)*(3.14*(radio**3))\n",
    "print(\"El volumen de la esfera es: \"+ str(round(volumen,1)) + \" m^3\")"
   ]
  },
  {
   "cell_type": "code",
   "execution_count": 3,
   "metadata": {},
   "outputs": [
    {
     "name": "stdout",
     "output_type": "stream",
     "text": [
      "Ingrese un dividendo:4\n",
      "Ingrese un divisor:0\n",
      "Divisor no puede ser 0\n",
      "Ingrese un dividendo:4\n",
      "Ingrese un divisor:4\n",
      "El resultado es 1\n"
     ]
    }
   ],
   "source": [
    "while  True:\n",
    "\ttry:\n",
    "\t\tdividendo = int(input('Ingrese un dividendo:'))\n",
    "\t\tdivisor = int(input('Ingrese un divisor:'))\n",
    "\t\tresultado = dividendo//divisor\n",
    "\t\tbreak\n",
    "\texcept ZeroDivisionError:\n",
    "\t\tprint(\"Divisor no puede ser 0\")\n",
    "\n",
    "print(\"El resultado es \" + str(resultado))"
   ]
  },
  {
   "cell_type": "code",
   "execution_count": 4,
   "metadata": {},
   "outputs": [
    {
     "name": "stdout",
     "output_type": "stream",
     "text": [
      "Et dukkehjem. English by Henrik Ibsen (1334)\n",
      "\n"
     ]
    }
   ],
   "source": [
    "import os\n",
    "\n",
    "n = 8\n",
    "path = os.path.join('files', 'bookstore.txt')\n",
    "with open(path, 'r') as f:\n",
    "\tfor i, line in enumerate(f):\n",
    "\t\tif i == n - 1:\n",
    "\t\t\tprint(line)"
   ]
  },
  {
   "cell_type": "code",
   "execution_count": 5,
   "metadata": {},
   "outputs": [
    {
     "name": "stdout",
     "output_type": "stream",
     "text": [
      "Pride and Prejudice by Jane Austen (2390)\n",
      "\n",
      "Beowulf: An Anglo-Saxon Epic Poem (2369)\n",
      "\n",
      "The Scarlet Letter by Nathaniel Hawthorne (1734)\n",
      "\n",
      "Anthem by Ayn Rand (1639)\n",
      "\n",
      "The Yellow Wallpaper by Charlotte Perkins Gilman (1567)\n",
      "\n",
      "Frankenstein; Or, The Modern Prometheus by Mary Wollstonecraft Shelley (1561)\n",
      "\n",
      "Alice's Adventures in Wonderland by Lewis Carroll (1457)\n",
      "\n",
      "Et dukkehjem. English by Henrik Ibsen (1334)\n",
      "\n",
      "The Adventures of Sherlock Holmes by Arthur Conan Doyle (1107)\n",
      "\n",
      "The Strange Case of Dr. Jekyll and Mr. Hyde by Robert Louis Stevenson (1053)\n"
     ]
    }
   ],
   "source": [
    "with open(path, 'r') as f:\n",
    "\tfor i in f:\n",
    "\t\tprint(i)"
   ]
  },
  {
   "cell_type": "code",
   "execution_count": 6,
   "metadata": {},
   "outputs": [
    {
     "name": "stdout",
     "output_type": "stream",
     "text": [
      "November 15, 1997\n",
      "December 12, 1998\n",
      "January 15, 2000\n",
      "January 19, 2002\n",
      "September 21, 2002\n"
     ]
    }
   ],
   "source": [
    "div = []\n",
    "fechas = []\n",
    "filt = []\n",
    "path = os.path.join('files', 'dates.txt')\n",
    "archivo = open(path, 'r')\n",
    "with open(path, 'r') as f:\n",
    "\tfor i in f:\n",
    "\t\tdiv.append(i.split(\"\\t\"))\n",
    "\n",
    "for i in div[3:8]:\n",
    "\tfilt.append(i[2])\n",
    "\tprint(i[2])\n",
    "\n",
    "path = os.path.join('files', 'filter.txt')\n",
    "with open(path, 'w') as f:\n",
    "\tfor j in filt:\n",
    "\t\tf.write(j + \"\\n\")"
   ]
  },
  {
   "cell_type": "code",
   "execution_count": 7,
   "metadata": {},
   "outputs": [
    {
     "name": "stdout",
     "output_type": "stream",
     "text": [
      "9\n",
      "1\n",
      "27\n"
     ]
    }
   ],
   "source": [
    "\n",
    "import Class.pow2 as num\n",
    "\n",
    "val = num.Pow2(3)\n",
    "\n",
    "print(val.pow2())\n",
    "print(val.mod2())\n",
    "print(val.pow3())"
   ]
  },
  {
   "cell_type": "code",
   "execution_count": null,
   "metadata": {},
   "outputs": [],
   "source": []
  }
 ],
 "metadata": {
  "kernelspec": {
   "display_name": "Python 3",
   "language": "python",
   "name": "python3"
  },
  "language_info": {
   "codemirror_mode": {
    "name": "ipython",
    "version": 3
   },
   "file_extension": ".py",
   "mimetype": "text/x-python",
   "name": "python",
   "nbconvert_exporter": "python",
   "pygments_lexer": "ipython3",
   "version": "3.8.3"
  }
 },
 "nbformat": 4,
 "nbformat_minor": 4
}
