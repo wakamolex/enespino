{
 "cells": [
  {
   "cell_type": "code",
   "execution_count": 2,
   "metadata": {},
   "outputs": [
    {
     "name": "stdout",
     "output_type": "stream",
     "text": [
      "5\n",
      "-5\n",
      "16.39\n",
      "0.8\n",
      "64\n",
      "1 3\n",
      "2\n",
      "13\n",
      "0.75\n",
      "2.0\n",
      "2.5\n",
      "<class 'int'>\n",
      "<class 'float'>\n",
      "20\n",
      "40.0\n",
      "0.8999999999999999\n",
      "<class 'str'>\n",
      "<class 'int'>\n",
      "<class 'float'>\n"
     ]
    }
   ],
   "source": [
    "print(3 + 2)\n",
    "\n",
    "print(4 - 9)\n",
    "\n",
    "print(2.2*7.45)\n",
    "\n",
    "print(4/5)\n",
    "\n",
    "print(4**3)\n",
    "\n",
    "print(3%2, -9%4) \n",
    "\n",
    "print(16//7)\n",
    "\n",
    "print(12^1)\n",
    "\n",
    "print(3/4)\n",
    "\n",
    "print(4/2)\n",
    "\n",
    "print(2 + 0.5)\n",
    "\n",
    "print(type(2))\n",
    "\n",
    "print(type(4.2))\n",
    "\n",
    "print(int(20.2))\n",
    "\n",
    "print(float(40))\n",
    "\n",
    "print(0.3+ 0.3 + 0.3)\n",
    "\n",
    "print(type('2'))\n",
    "\n",
    "print(type(2))\n",
    "\n",
    "print(type(2.0))\n",
    "\n"
   ]
  },
  {
   "cell_type": "code",
   "execution_count": null,
   "metadata": {},
   "outputs": [],
   "source": []
  }
 ],
 "metadata": {
  "kernelspec": {
   "display_name": "Python 3",
   "language": "python",
   "name": "python3"
  },
  "language_info": {
   "codemirror_mode": {
    "name": "ipython",
    "version": 3
   },
   "file_extension": ".py",
   "mimetype": "text/x-python",
   "name": "python",
   "nbconvert_exporter": "python",
   "pygments_lexer": "ipython3",
   "version": "3.8.6"
  }
 },
 "nbformat": 4,
 "nbformat_minor": 4
}
