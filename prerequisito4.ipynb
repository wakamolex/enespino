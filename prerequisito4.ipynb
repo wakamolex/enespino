{
 "cells": [
  {
   "cell_type": "code",
   "execution_count": 1,
   "metadata": {},
   "outputs": [
    {
     "name": "stdout",
     "output_type": "stream",
     "text": [
      "1.15\n"
     ]
    }
   ],
   "source": [
    "def distancia(vo, dt, a):\n",
    "    d = vo*dt + 0.5*a*dt**2\n",
    "    return d\n",
    "\n",
    "vo = 2\n",
    "t = 0.5\n",
    "a = 1.2\n",
    "d = distancia(vo, t, a)\n",
    "print(d)"
   ]
  },
  {
   "cell_type": "code",
   "execution_count": 2,
   "metadata": {},
   "outputs": [
    {
     "name": "stdout",
     "output_type": "stream",
     "text": [
      "1.15\n"
     ]
    }
   ],
   "source": [
    "d = distancia(2, 0.5, 1.2)\n",
    "print(d)"
   ]
  },
  {
   "cell_type": "code",
   "execution_count": 3,
   "metadata": {},
   "outputs": [
    {
     "name": "stdout",
     "output_type": "stream",
     "text": [
      "xxx\n",
      "None\n"
     ]
    }
   ],
   "source": [
    "retorno = print('xxx')\n",
    "\n",
    "print(retorno)"
   ]
  },
  {
   "cell_type": "code",
   "execution_count": 4,
   "metadata": {},
   "outputs": [
    {
     "name": "stdout",
     "output_type": "stream",
     "text": [
      "157.0796327\n"
     ]
    }
   ],
   "source": [
    "a = 10\n",
    "b = 5\n",
    "def area_elipse(a, b):\n",
    "\tarea = round(3.141592653*a*b,7)\n",
    "\treturn(area)\n",
    "\n",
    "print(area_elipse(a,b))"
   ]
  },
  {
   "cell_type": "code",
   "execution_count": 5,
   "metadata": {},
   "outputs": [
    {
     "name": "stdout",
     "output_type": "stream",
     "text": [
      "1875570\n"
     ]
    }
   ],
   "source": [
    "t = \"520:59:30\"\n",
    "hora, minutos, segundo = t.split(\":\")\n",
    "\n",
    "def calcular_seg(hora, minutos, segundo):\n",
    "\thoraf = int(hora)*3600\n",
    "\tminutosf = int(minutos)*60\n",
    "\tfecha = horaf + minutosf + int(segundo)\n",
    "\treturn(int(fecha))\n",
    "\n",
    "\n",
    "print(calcular_seg(hora, minutos, segundo))"
   ]
  },
  {
   "cell_type": "code",
   "execution_count": 6,
   "metadata": {},
   "outputs": [
    {
     "name": "stdout",
     "output_type": "stream",
     "text": [
      "6 3.0\n"
     ]
    }
   ],
   "source": [
    "def area_rectangulo(base, altura):\n",
    "    area = base * altura\n",
    "    return area\n",
    "\n",
    "def area_triangulo(base, altura):\n",
    "    area = 0.5 * base * altura\n",
    "    return area\n",
    "\n",
    "b = 2\n",
    "h = 3 \n",
    "area1 = area_rectangulo(b, h)\n",
    "area2 = area_triangulo(b, h)\n",
    "print(area1, area2)"
   ]
  },
  {
   "cell_type": "code",
   "execution_count": 7,
   "metadata": {},
   "outputs": [
    {
     "name": "stdout",
     "output_type": "stream",
     "text": [
      "15\n"
     ]
    }
   ],
   "source": [
    "val = 15\n",
    "\n",
    "def print_val():\n",
    "    print(val)\n",
    "    \n",
    "print_val()"
   ]
  },
  {
   "cell_type": "code",
   "execution_count": 8,
   "metadata": {},
   "outputs": [
    {
     "name": "stdout",
     "output_type": "stream",
     "text": [
      "50.265482464\n"
     ]
    }
   ],
   "source": [
    "def area_circulo(r):\n",
    "    pi = 3.141592654\n",
    "    print(pi*r**2)\n",
    "\n",
    "area_circulo(4)"
   ]
  },
  {
   "cell_type": "markdown",
   "metadata": {},
   "source": [
    "def area_circulo(r):\n",
    "    pi = 3.141592654\n",
    "    print(pi*r**2)\n",
    "\n",
    "area_circulo(4)\n",
    "pi_medio = pi/2\n",
    "\n",
    "el error se encuentra en la linea inferior ya que la variable pi\n",
    "no esta definida fuera de la funcion"
   ]
  },
  {
   "cell_type": "code",
   "execution_count": 10,
   "metadata": {},
   "outputs": [
    {
     "name": "stdout",
     "output_type": "stream",
     "text": [
      "3.0\n",
      "44.0\n",
      "0.2\n",
      "2.5\n"
     ]
    }
   ],
   "source": [
    "def area_trapecio(a, b, h):\n",
    "    area = (a + b)*h/2 # a y b, base y lado superior respectivamente; h es la altura\n",
    "    return area\n",
    "# calculando el area de diferentes trapezoides\n",
    "print(area_trapecio(4, 2, 1))\n",
    "print(area_trapecio(3, 8, 8))\n",
    "print(area_trapecio(1, 1, 0.2))\n",
    "print(area_trapecio(7, 3, 0.5))"
   ]
  },
  {
   "cell_type": "code",
   "execution_count": 11,
   "metadata": {},
   "outputs": [
    {
     "name": "stdout",
     "output_type": "stream",
     "text": [
      "3.0\n",
      "44.0\n",
      "0.2\n",
      "2.5\n"
     ]
    }
   ],
   "source": [
    "# escribiendo lo mismo pero sin funciones\n",
    "a, b, h = 4, 2, 1\n",
    "area = (a + b)*h/2\n",
    "print(area)\n",
    "\n",
    "a, b, h = 3, 8, 8\n",
    "area = (a + b)*h/2\n",
    "print(area)\n",
    "\n",
    "a, b, h = 1, 1, 0.2\n",
    "area = (a + b)*h/2\n",
    "print(area)\n",
    "\n",
    "a, b, h = 7, 3, 0.5\n",
    "area = (a + b)*h/2\n",
    "print(area)"
   ]
  },
  {
   "cell_type": "code",
   "execution_count": 12,
   "metadata": {},
   "outputs": [
    {
     "name": "stdout",
     "output_type": "stream",
     "text": [
      "50\n"
     ]
    }
   ],
   "source": [
    "def area_paralelograma(h, b):\n",
    "    \"\"\"\n",
    "\tEsta funcion calcula el area de un paralelograma dada su base y altura \n",
    "\t\t\t     _____________\n",
    "\t\t\t\t/\t|\t\t /\n",
    "\t\t\t   /\t|h\t\t/\n",
    "\t\t\t  /\t\t|\t   /\n",
    "\t\t\t /______|_____/\n",
    "\t\t\t<-------------->\t\t\t\n",
    "\t\t\t \t\tb\n",
    "\th = la altura\n",
    "\tb = la base\n",
    "\tarea_paralelograma = es el area del paralelograma dada por la ecuacion\n",
    "    \"\"\"\n",
    "    area = (h*b)\n",
    "    return area\n",
    "print(area_paralelograma(5, 10))"
   ]
  },
  {
   "cell_type": "code",
   "execution_count": 13,
   "metadata": {},
   "outputs": [
    {
     "name": "stdout",
     "output_type": "stream",
     "text": [
      "5\n",
      "5\n"
     ]
    }
   ],
   "source": [
    "def suma(a, b):\n",
    "    return a+b\n",
    "\n",
    "print(suma(3,2))\n",
    "\n",
    "suma = lambda x,y: x + y\n",
    "print(suma(3,2))"
   ]
  },
  {
   "cell_type": "code",
   "execution_count": 14,
   "metadata": {},
   "outputs": [
    {
     "name": "stdout",
     "output_type": "stream",
     "text": [
      "25\n"
     ]
    }
   ],
   "source": [
    "n2 = lambda n: n**2\n",
    "print(n2(5))"
   ]
  },
  {
   "cell_type": "code",
   "execution_count": 15,
   "metadata": {},
   "outputs": [
    {
     "name": "stdout",
     "output_type": "stream",
     "text": [
      "[4.5, 10.5, 22.0]   [[0, 1, 2, 3, 4, 5, 6, 7, 8, 9], [2, 3, 4, 5, 6, 7, 8, 9, 10, 11, 12, 13, 14, 15, 16, 17, 18, 19], [5, 7, 9, 11, 13, 15, 17, 19, 21, 23, 25, 27, 29, 31, 33, 35, 37, 39]]\n"
     ]
    }
   ],
   "source": [
    "n_list = [list(range(10)), list(range(2, 20)), list(range(5, 40, 2))]\n",
    "\n",
    "def avg(n_list):\n",
    "    av = sum(n_list)/len(n_list)\n",
    "    return av\n",
    "\n",
    "promedio = list(map(avg, n_list))\n",
    "print(promedio, \" \", n_list)"
   ]
  },
  {
   "cell_type": "code",
   "execution_count": 16,
   "metadata": {},
   "outputs": [
    {
     "name": "stdout",
     "output_type": "stream",
     "text": [
      "[4.5, 10.5, 22.0]\n"
     ]
    }
   ],
   "source": [
    "promedio2 = map(lambda lista: sum(lista)/len(lista), n_list)\n",
    "\n",
    "print(list(promedio2))"
   ]
  },
  {
   "cell_type": "code",
   "execution_count": 17,
   "metadata": {},
   "outputs": [
    {
     "name": "stdout",
     "output_type": "stream",
     "text": [
      "[1, -1, 5, -5]\n"
     ]
    }
   ],
   "source": [
    "valores = [1, 20, -1, 2, 5, 4, -2, -5, 10]\n",
    "\n",
    "def impares(v):\n",
    "    if v%2 != 0:\n",
    "        return True\n",
    "\n",
    "vals = list(filter(impares, valores))\n",
    "print(vals)"
   ]
  },
  {
   "cell_type": "code",
   "execution_count": 18,
   "metadata": {},
   "outputs": [
    {
     "name": "stdout",
     "output_type": "stream",
     "text": [
      "[1, -1, 5, -5]\n"
     ]
    }
   ],
   "source": [
    "vals2 = list(filter(lambda valo: (valo%2 != 0), valores))\n",
    "\n",
    "print(vals2)"
   ]
  },
  {
   "cell_type": "code",
   "execution_count": 19,
   "metadata": {},
   "outputs": [
    {
     "name": "stdout",
     "output_type": "stream",
     "text": [
      "<generator object generador at 0x7f1d506de5f0>\n",
      "0\n",
      "1\n",
      "2\n",
      "3\n",
      "4\n",
      "5\n",
      "6\n"
     ]
    }
   ],
   "source": [
    "def generador(x):\n",
    "    i = 0\n",
    "    while i <= x:\n",
    "        yield i\n",
    "        i += 1\n",
    "        \n",
    "print(generador(6))\n",
    "\n",
    "for n in generador(6):\n",
    "    print(n)"
   ]
  },
  {
   "cell_type": "code",
   "execution_count": 21,
   "metadata": {},
   "outputs": [
    {
     "name": "stdout",
     "output_type": "stream",
     "text": [
      "Book 1: Practical GUI\n",
      "Book 2: Advanced Programming\n",
      "Book 3: Building Intelligent\n",
      "Book 4: The AI Workshop\n",
      "Book 5: Data Analysis\n"
     ]
    }
   ],
   "source": [
    "frases = [\"Practical GUI\", \"Advanced Programming\", \"Building Intelligent\", \"The AI Workshop\", \"Data Analysis\"]\n",
    "def enumerador(f, i):\n",
    "\twhile i < len(f):\n",
    "\t\tyield i, f[i]\n",
    "\t\ti += 1\n",
    "\n",
    "for i, frase in enumerador(frases, 0):\n",
    "\tprint(\"Book {}: {}\".format(i+1, frase))"
   ]
  },
  {
   "cell_type": "code",
   "execution_count": 22,
   "metadata": {},
   "outputs": [
    {
     "name": "stdout",
     "output_type": "stream",
     "text": [
      "<generator object <genexpr> at 0x7f1d506dec80>\n",
      "4\n",
      "5\n",
      "6\n",
      "7\n",
      "8\n",
      "9\n",
      "10\n",
      "11\n",
      "12\n",
      "13\n"
     ]
    }
   ],
   "source": [
    "gen = (n + 4 for n in range(10))\n",
    "print(gen)\n",
    "\n",
    "for g in gen:\n",
    "    print(g)"
   ]
  },
  {
   "cell_type": "code",
   "execution_count": null,
   "metadata": {},
   "outputs": [],
   "source": []
  }
 ],
 "metadata": {
  "kernelspec": {
   "display_name": "Python 3",
   "language": "python",
   "name": "python3"
  },
  "language_info": {
   "codemirror_mode": {
    "name": "ipython",
    "version": 3
   },
   "file_extension": ".py",
   "mimetype": "text/x-python",
   "name": "python",
   "nbconvert_exporter": "python",
   "pygments_lexer": "ipython3",
   "version": "3.8.3"
  }
 },
 "nbformat": 4,
 "nbformat_minor": 4
}
